{
 "cells": [
  {
   "cell_type": "code",
   "execution_count": null,
   "metadata": {},
   "outputs": [],
   "source": [
    "##word enbedding with neural networks, \n"
   ]
  },
  {
   "cell_type": "markdown",
   "metadata": {},
   "source": [
    "# GloVe Algorithm\n",
    "\n",
    "There are many embedding techniques available, and in this case, we will use the GloVe algorithm.\n",
    "\n",
    "In the GloVe (Global Vectors for Word Representation) algorithm (Pennington et al., 2014), words are represented as vectors in a high-dimensional space. The distances between these vectors reflect the semantic relationships between words. The fundamental idea is that words appearing in similar contexts will have similar vector representations. This similarity can be quantified using distances between word embeddings, such as Euclidean distance or cosine similarity, to assess the relatedness of different words in meaning.\n",
    "\n",
    "## Mathematical Formulation\n",
    "\n",
    "GloVe builds a co-occurrence matrix $X$, where each entry $X_{ij}$ represents how often word $i$ appears in the context of word $j$. This matrix captures the frequency with which words co-occur within a defined context window.\n",
    "\n",
    "GloVe assumes that the probability of observing word $j$ in the context of word $i$ is related to their embeddings. Specifically, the probability is given by:\n",
    "   $\n",
    "   P_{ij} = \\frac{X_{ij}}{\\sum_k X_{ik}}\n",
    "   $\n",
    "   where $P_{ij}$ is the probability of word $j$ given word $i$, and $X_{ik}$ is the total count of word $i$ appearing in any context.\n",
    "\n",
    "The goal is to find word embeddings $ \\mathbf{v}_i $ and $ \\mathbf{v}_j $ such that the following objective function is minimized:\n",
    "   $\n",
    "   J = \\sum_{i,j} f(X_{ij}) \\left( \\mathbf{v}_i^\\top \\mathbf{v}_j + b_i + b_j - \\log X_{ij} \\right)^2\n",
    "   $\n",
    "   Here, $f(X_{ij})$ is a weighting function to handle rare words, $b_i$ and $b_j$ are bias terms for words $i$ and $j$, and $\\mathbf{v}_i^\\top \\mathbf{v}_j$ is the dot product of the embeddings for words $i$ and $j$.\n",
    "\n",
    "GloVe considers a context window of a fixed size around a target word. For example, if the context window size is five, the algorithm examines the words appearing within five positions before and after the target word.\n",
    "\n",
    "By analyzing co-occurrence statistics within these context windows, GloVe learns word embeddings that capture semantic relationships. Words with similar contexts will have similar embeddings, allowing us to compute and interpret distances between vectors to understand semantic similarity.\n",
    "\n",
    "###### Pennington, J., Socher, R., & Manning, C. D. (2014). GloVe: Global Vectors for Word Representation. *Proceedings of the 2014 Conference on Empirical Methods in Natural Language Processing (EMNLP)*, 1532–1543.\n"
   ]
  },
  {
   "cell_type": "code",
   "execution_count": 1,
   "metadata": {},
   "outputs": [
    {
     "name": "stderr",
     "output_type": "stream",
     "text": [
      "/home/hernan/.local/lib/python3.10/site-packages/torchtext/vocab/__init__.py:4: UserWarning: \n",
      "/!\\ IMPORTANT WARNING ABOUT TORCHTEXT STATUS /!\\ \n",
      "Torchtext is deprecated and the last released version will be 0.18 (this one). You can silence this warning by calling the following at the beginnign of your scripts: `import torchtext; torchtext.disable_torchtext_deprecation_warning()`\n",
      "  warnings.warn(torchtext._TORCHTEXT_DEPRECATION_MSG)\n",
      "/home/hernan/.local/lib/python3.10/site-packages/torchtext/utils.py:4: UserWarning: \n",
      "/!\\ IMPORTANT WARNING ABOUT TORCHTEXT STATUS /!\\ \n",
      "Torchtext is deprecated and the last released version will be 0.18 (this one). You can silence this warning by calling the following at the beginnign of your scripts: `import torchtext; torchtext.disable_torchtext_deprecation_warning()`\n",
      "  warnings.warn(torchtext._TORCHTEXT_DEPRECATION_MSG)\n"
     ]
    }
   ],
   "source": [
    "import torch \n",
    "import torchtext.vocab as vocab\n",
    "import pandas as pd\n",
    "from plotnine import ggplot, aes, geom_text, labs\n",
    "from sklearn.manifold import TSNE"
   ]
  },
  {
   "cell_type": "markdown",
   "metadata": {},
   "source": [
    "# GloVe Models \n",
    "The GloVealgorithm offers several pre-trained models, each trained on different datasets and with varying dimensions. Below is an overview of the available models:\n",
    "\n",
    "#### Models and Dimensions\n",
    "\n",
    "1. **GloVe 6B**:\n",
    "   - **Dataset**: Trained on a 6 billion token corpus.\n",
    "   - **Available Dimensions**:\n",
    "     - **50-dimensional**: `glove6b_50d` (for smaller-scale experiments)\n",
    "     - **100-dimensional**: `glove6b_100d` (a common choice for many applications)\n",
    "     - **200-dimensional**: `glove6b_200d` (captures more semantic nuance)\n",
    "     - **300-dimensional**: `glove6b_300d` (provides the most detailed representations in this model)\n",
    "   - **Usage**: Suitable for applications requiring embeddings with various levels of detail and computational resources.\n",
    "\n",
    "2. **GloVe 42B**:\n",
    "   - **Dataset**: Trained on a 42 billion token corpus.\n",
    "   - **Dimensions**:\n",
    "     - **300-dimensional**: `glove42b_300d` (offers detailed word representations with extensive contextual information)\n",
    "   - **Usage**: Ideal for tasks requiring high-quality embeddings from a large corpus.\n",
    "\n",
    "3. **GloVe 840B**:\n",
    "   - **Dataset**: Trained on an 840 billion token corpus.\n",
    "   - **Dimensions**:\n",
    "     - **300-dimensional**: (provides very high-quality embeddings based on an extremely large dataset)\n",
    "   - **Usage**: Best suited for applications needing the highest quality word vectors, leveraging a vast corpus for rich semantic understanding.\n",
    "\n",
    "4. **GloVe Twitter 27B**:\n",
    "   - **Dataset**: Trained on 27 billion tokens from Twitter.\n",
    "   - **Available Dimensions**:\n",
    "     - **25-dimensional**: `glove-twitter-25d` (smaller vectors suitable for lightweight applications)\n",
    "     - **50-dimensional**: `glove-twitter-50d` (a good trade-off between detail and computational efficiency)\n",
    "     - **100-dimensional**: `glove-twitter-100d` (provides a balance of detail and performance)\n",
    "     - **200-dimensional**: `glove-twitter-200d` (captures more detailed semantic relationships)\n",
    "   - **Usage**: Tailored for social media text and informal language.\n",
    "\n",
    "\n",
    "To load a specific GloVe model, we use the `vocab` module from the the `torchtext` library.\n",
    "\n"
   ]
  },
  {
   "cell_type": "code",
   "execution_count": null,
   "metadata": {},
   "outputs": [],
   "source": [
    "names = [\"6b\",\"42B\", \"840B\",\"twitter.27B\"]\n",
    "dim = [50,100,200,300] ## 50d, 100d, 200d, & 300d vectors for 6B, 300d vectors for 42B & 840B, and finally 25d, 50d, 100d, & 200d vectors for twitter.27B\n",
    "\n",
    "\n",
    "glove6b_100d = vocab.GloVe(name=\"6B\",dim=100)\n",
    "glove6b_300d = vocab.GloVe(name=\"6B\",dim=300)\n",
    "glove42b = vocab.GloVe(name=\"42B\",dim=300)\n",
    "\n"
   ]
  },
  {
   "cell_type": "code",
   "execution_count": 85,
   "metadata": {},
   "outputs": [
    {
     "data": {
      "text/plain": [
       "['__class__',\n",
       " '__contains__',\n",
       " '__delattr__',\n",
       " '__dict__',\n",
       " '__dir__',\n",
       " '__doc__',\n",
       " '__eq__',\n",
       " '__format__',\n",
       " '__ge__',\n",
       " '__getattribute__',\n",
       " '__getitem__',\n",
       " '__gt__',\n",
       " '__hash__',\n",
       " '__init__',\n",
       " '__init_subclass__',\n",
       " '__le__',\n",
       " '__len__',\n",
       " '__lt__',\n",
       " '__module__',\n",
       " '__ne__',\n",
       " '__new__',\n",
       " '__reduce__',\n",
       " '__reduce_ex__',\n",
       " '__repr__',\n",
       " '__setattr__',\n",
       " '__sizeof__',\n",
       " '__str__',\n",
       " '__subclasshook__',\n",
       " '__weakref__',\n",
       " 'cache',\n",
       " 'dim',\n",
       " 'get_vecs_by_tokens',\n",
       " 'itos',\n",
       " 'stoi',\n",
       " 'unk_init',\n",
       " 'url',\n",
       " 'vectors']"
      ]
     },
     "execution_count": 85,
     "metadata": {},
     "output_type": "execute_result"
    }
   ],
   "source": [
    "### the documentation of \n",
    "dir(glove6b_100d)"
   ]
  },
  {
   "cell_type": "markdown",
   "metadata": {},
   "source": [
    "### Custom GloVe-Specific Attributes\n",
    "These are the important ones that provide access to the actual GloVe functionality. \n",
    "We'll use:\n",
    "\n",
    "\n",
    "\n",
    "**`stoi`**: This stands for \"string to index.\" It's a dictionary that maps a word to its index in the embedding matrix. For example, stoi['the'] might return 0.\n",
    "\n",
    "**`vectors`**: A matrix containing the word embeddings. The rows correspond to the words, and each row is the vector for a particular word\n"
   ]
  },
  {
   "cell_type": "code",
   "execution_count": 87,
   "metadata": {},
   "outputs": [
    {
     "data": {
      "text/plain": [
       "787"
      ]
     },
     "execution_count": 87,
     "metadata": {},
     "output_type": "execute_result"
    }
   ],
   "source": [
    "\n",
    "### the word \"woman\" is the index\n",
    "glove6b_100d.stoi[\"woman\"]"
   ]
  },
  {
   "cell_type": "code",
   "execution_count": 97,
   "metadata": {},
   "outputs": [
    {
     "data": {
      "text/plain": [
       "tensor([ 0.5937,  0.4482,  0.5932,  0.0741,  0.1114,  1.2793,  0.1666,  0.2407,\n",
       "         0.3905,  0.3277, -0.7503,  0.3501,  0.7606,  0.3807,  0.1752,  0.0318,\n",
       "         0.4685, -0.2165, -0.4628,  0.3997,  0.1662, -0.0115,  0.0441,  0.3033,\n",
       "         0.6153,  0.4705, -0.4404, -1.5963,  0.1843,  0.2319,  0.2045,  0.5162,\n",
       "         0.6573, -0.3452,  0.2345, -0.6200, -0.6874,  0.2858,  1.0605,  0.4692,\n",
       "        -0.8515,  0.1015,  0.2143, -0.2059,  0.2364,  0.2132, -0.2129,  0.1211,\n",
       "         0.1877, -0.2328, -0.2550, -0.3963,  0.8438,  1.6801, -0.4094, -1.9976,\n",
       "        -0.6987,  0.2173,  1.2197,  0.5513,  0.4410,  0.7259, -0.0921, -0.0224,\n",
       "         0.7204,  0.1076,  0.8412,  0.3031, -0.4254,  0.0564,  0.1311, -0.0712,\n",
       "        -0.1058,  0.5668,  0.5455,  0.8411,  0.1486, -0.6263, -0.6839, -1.0831,\n",
       "        -0.0884,  0.3217,  0.4779,  0.0919, -1.2559, -1.2268,  0.0854,  0.3683,\n",
       "         0.0816, -0.7661,  0.8775, -0.2201,  0.8240, -0.0922, -0.4594,  0.4657,\n",
       "        -0.5602, -0.5465,  0.1516, -0.3075])"
      ]
     },
     "execution_count": 97,
     "metadata": {},
     "output_type": "execute_result"
    }
   ],
   "source": [
    "### the \"vectors\" embeddnig of the index of the word \"woman\"\n",
    "glove6b_100d.vectors[glove6b_100d.stoi[\"woman\"]]"
   ]
  },
  {
   "cell_type": "code",
   "execution_count": 4,
   "metadata": {},
   "outputs": [],
   "source": [
    "def get_embedding_vector(glove,word):\n",
    "    word_index = glove.stoi[word]\n",
    "    emb = glove.vectors[word_index]\n",
    "    return emb\n",
    "    "
   ]
  },
  {
   "cell_type": "code",
   "execution_count": 90,
   "metadata": {},
   "outputs": [
    {
     "data": {
      "text/plain": [
       "tensor([ 0.5937,  0.4482,  0.5932,  0.0741,  0.1114,  1.2793,  0.1666,  0.2407,\n",
       "         0.3905,  0.3277, -0.7503,  0.3501,  0.7606,  0.3807,  0.1752,  0.0318,\n",
       "         0.4685, -0.2165, -0.4628,  0.3997,  0.1662, -0.0115,  0.0441,  0.3033,\n",
       "         0.6153,  0.4705, -0.4404, -1.5963,  0.1843,  0.2319,  0.2045,  0.5162,\n",
       "         0.6573, -0.3452,  0.2345, -0.6200, -0.6874,  0.2858,  1.0605,  0.4692,\n",
       "        -0.8515,  0.1015,  0.2143, -0.2059,  0.2364,  0.2132, -0.2129,  0.1211,\n",
       "         0.1877, -0.2328, -0.2550, -0.3963,  0.8438,  1.6801, -0.4094, -1.9976,\n",
       "        -0.6987,  0.2173,  1.2197,  0.5513,  0.4410,  0.7259, -0.0921, -0.0224,\n",
       "         0.7204,  0.1076,  0.8412,  0.3031, -0.4254,  0.0564,  0.1311, -0.0712,\n",
       "        -0.1058,  0.5668,  0.5455,  0.8411,  0.1486, -0.6263, -0.6839, -1.0831,\n",
       "        -0.0884,  0.3217,  0.4779,  0.0919, -1.2559, -1.2268,  0.0854,  0.3683,\n",
       "         0.0816, -0.7661,  0.8775, -0.2201,  0.8240, -0.0922, -0.4594,  0.4657,\n",
       "        -0.5602, -0.5465,  0.1516, -0.3075])"
      ]
     },
     "execution_count": 90,
     "metadata": {},
     "output_type": "execute_result"
    }
   ],
   "source": [
    "get_embedding_vector(glove6b_100d,\"woman\")"
   ]
  },
  {
   "cell_type": "markdown",
   "metadata": {},
   "source": [
    "In the GloVe algorithm, the relationship between words is represented by the distance between their embeddings. To form clusters of similar words, the Euclidean distance (p=2) can be computed using the torch.dist() function from the PyTorch library. This distance quantifies how similar two words are based on their vector representations."
   ]
  },
  {
   "cell_type": "code",
   "execution_count": 93,
   "metadata": {},
   "outputs": [],
   "source": [
    "def get_closest_words_from_word(glove,word, max_n):\n",
    "    word_emb = get_embedding_vector(glove,word)\n",
    "    distances = [(w, torch.dist(word_emb, get_embedding_vector(glove,w),p=2).cpu().item()) for w in glove.itos]\n",
    "    dist_sort_filt = sorted(distances, key=lambda x: x[1])[:max_n]\n",
    "    return [item[0] for item in dist_sort_filt]\n",
    "\n",
    "    \n",
    "    \n"
   ]
  },
  {
   "cell_type": "code",
   "execution_count": 95,
   "metadata": {},
   "outputs": [
    {
     "data": {
      "text/plain": [
       "['music',\n",
       " 'musical',\n",
       " 'dance',\n",
       " 'songs',\n",
       " 'pop',\n",
       " 'recording',\n",
       " 'folk',\n",
       " 'jazz',\n",
       " 'concert',\n",
       " 'musicians',\n",
       " 'contemporary',\n",
       " 'artists',\n",
       " 'soundtrack',\n",
       " 'hop',\n",
       " 'studio',\n",
       " 'song',\n",
       " 'tunes',\n",
       " 'singing',\n",
       " 'band',\n",
       " 'performing']"
      ]
     },
     "execution_count": 95,
     "metadata": {},
     "output_type": "execute_result"
    }
   ],
   "source": [
    "get_closest_words_from_word(glove6b_100d,\"music\",20)"
   ]
  },
  {
   "cell_type": "markdown",
   "metadata": {},
   "source": [
    "The following code defines functions to perform word analogy tasks using word embeddings. First, it calculates distances between a given embedding and all other embeddings to find the closest words. Then, it applies an analogy formula to find a word that fits a specified relationship. Finally, the code uses these functions to identify words that complete the analogy \"sister is to brother as nephew is to ?\" by retrieving the top 10 closest words to the resulting vector."
   ]
  },
  {
   "cell_type": "code",
   "execution_count": 99,
   "metadata": {},
   "outputs": [
    {
     "data": {
      "text/plain": [
       "[('sister', 2.5398471355438232),\n",
       " ('niece', 2.700707197189331),\n",
       " ('granddaughter', 3.272900342941284),\n",
       " ('sister-in-law', 3.652935743331909),\n",
       " ('cousin', 3.657327651977539),\n",
       " ('aunt', 3.7071921825408936),\n",
       " ('daughter-in-law', 3.864732503890991),\n",
       " ('daughter', 3.8866991996765137),\n",
       " ('nephew', 3.9346508979797363),\n",
       " ('daughters', 3.9362165927886963)]"
      ]
     },
     "execution_count": 99,
     "metadata": {},
     "output_type": "execute_result"
    }
   ],
   "source": [
    "def get_closest_words_from_embedding(glove,word_emb, max_n):\n",
    "    distances = [(w, torch.dist(word_emb, get_embedding_vector(glove,w)).cpu().item()) for w in glove.itos]\n",
    "    dist_sort_filt = sorted(distances, key=lambda x: x[1])[:max_n]\n",
    "    return dist_sort_filt\n",
    "def get_word_analogy(glove,word1, word2, word3, max_n):\n",
    "    # logic w1= king, ...\n",
    "    # w1 - w2 + w3 --> w4\n",
    "    word1_emb = get_embedding_vector(glove,word1)\n",
    "    word2_emb = get_embedding_vector(glove,word2)\n",
    "    word3_emb = get_embedding_vector(glove,word3)\n",
    "    word4_emb = word1_emb - word2_emb + word3_emb\n",
    "    analogy = get_closest_words_from_embedding(glove,word4_emb,max_n)\n",
    "    return analogy\n",
    "\n",
    "get_word_analogy(glove6b_100d,word1='sister', word2='brother', word3='nephew',max_n=10)\n"
   ]
  },
  {
   "cell_type": "markdown",
   "metadata": {},
   "source": [
    "In the next part of the code, the focus shifts to creating word clusters based on categories. The code generates word clusters by iterating over predefined categories and finding the top **$n$** closest words to each category using GloVe embeddings. Then it creates a DataFrame to store these clusters, where each entry includes the category and associated words."
   ]
  },
  {
   "cell_type": "code",
   "execution_count": 54,
   "metadata": {},
   "outputs": [
    {
     "name": "stdout",
     "output_type": "stream",
     "text": [
      "numbers\n",
      "algebra\n",
      "music\n",
      "science\n",
      "technology\n"
     ]
    }
   ],
   "source": [
    "## Word Clusters\n",
    "\n",
    "words = []\n",
    "categories = ['numbers', 'algebra', 'music', 'science', 'technology']\n",
    "\n",
    "df_word_cloud = pd.DataFrame({\n",
    "    \"category\": [],\n",
    "    \"word\": []\n",
    "})\n",
    "\n",
    "\n",
    "for category in categories:\n",
    "    print(category)\n",
    "    closest_words = get_closest_words_from_word(glove6b_100d,word=category, max_n=100)\n",
    "    temp = pd.DataFrame({\n",
    "        'category': [category] * len(closest_words),\n",
    "        'word': closest_words\n",
    "    })\n",
    "    df_word_cloud = pd.concat([df_word_cloud, temp], ignore_index=True)"
   ]
  },
  {
   "cell_type": "code",
   "execution_count": 55,
   "metadata": {},
   "outputs": [
    {
     "data": {
      "text/html": [
       "<div>\n",
       "<style scoped>\n",
       "    .dataframe tbody tr th:only-of-type {\n",
       "        vertical-align: middle;\n",
       "    }\n",
       "\n",
       "    .dataframe tbody tr th {\n",
       "        vertical-align: top;\n",
       "    }\n",
       "\n",
       "    .dataframe thead th {\n",
       "        text-align: right;\n",
       "    }\n",
       "</style>\n",
       "<table border=\"1\" class=\"dataframe\">\n",
       "  <thead>\n",
       "    <tr style=\"text-align: right;\">\n",
       "      <th></th>\n",
       "      <th>category</th>\n",
       "      <th>word</th>\n",
       "    </tr>\n",
       "  </thead>\n",
       "  <tbody>\n",
       "    <tr>\n",
       "      <th>0</th>\n",
       "      <td>numbers</td>\n",
       "      <td>numbers</td>\n",
       "    </tr>\n",
       "    <tr>\n",
       "      <th>1</th>\n",
       "      <td>numbers</td>\n",
       "      <td>number</td>\n",
       "    </tr>\n",
       "    <tr>\n",
       "      <th>2</th>\n",
       "      <td>numbers</td>\n",
       "      <td>instance</td>\n",
       "    </tr>\n",
       "    <tr>\n",
       "      <th>3</th>\n",
       "      <td>numbers</td>\n",
       "      <td>moreover</td>\n",
       "    </tr>\n",
       "    <tr>\n",
       "      <th>4</th>\n",
       "      <td>numbers</td>\n",
       "      <td>though</td>\n",
       "    </tr>\n",
       "    <tr>\n",
       "      <th>...</th>\n",
       "      <td>...</td>\n",
       "      <td>...</td>\n",
       "    </tr>\n",
       "    <tr>\n",
       "      <th>495</th>\n",
       "      <td>technology</td>\n",
       "      <td>useful</td>\n",
       "    </tr>\n",
       "    <tr>\n",
       "      <th>496</th>\n",
       "      <td>technology</td>\n",
       "      <td>application</td>\n",
       "    </tr>\n",
       "    <tr>\n",
       "      <th>497</th>\n",
       "      <td>technology</td>\n",
       "      <td>recently</td>\n",
       "    </tr>\n",
       "    <tr>\n",
       "      <th>498</th>\n",
       "      <td>technology</td>\n",
       "      <td>instance</td>\n",
       "    </tr>\n",
       "    <tr>\n",
       "      <th>499</th>\n",
       "      <td>technology</td>\n",
       "      <td>processing</td>\n",
       "    </tr>\n",
       "  </tbody>\n",
       "</table>\n",
       "<p>500 rows × 2 columns</p>\n",
       "</div>"
      ],
      "text/plain": [
       "       category         word\n",
       "0       numbers      numbers\n",
       "1       numbers       number\n",
       "2       numbers     instance\n",
       "3       numbers     moreover\n",
       "4       numbers       though\n",
       "..          ...          ...\n",
       "495  technology       useful\n",
       "496  technology  application\n",
       "497  technology     recently\n",
       "498  technology     instance\n",
       "499  technology   processing\n",
       "\n",
       "[500 rows x 2 columns]"
      ]
     },
     "execution_count": 55,
     "metadata": {},
     "output_type": "execute_result"
    }
   ],
   "source": [
    "df_word_cloud"
   ]
  },
  {
   "cell_type": "markdown",
   "metadata": {},
   "source": [
    "now we need to represent this words,The following code prepares to visualize the words from the df_word_cloud. It initializes a tensor to hold the word embeddings and a list to store the word labels.\n"
   ]
  },
  {
   "cell_type": "code",
   "execution_count": null,
   "metadata": {},
   "outputs": [],
   "source": [
    "glove_dim  = 100\n",
    "n_rows = df_word_cloud.shape[0]\n",
    "n_cols = glove_dim\n",
    "X = torch.empty((n_rows, n_cols))\n",
    "words_labels= []\n",
    "for i in range(n_rows):\n",
    "    current_word = df_word_cloud.loc[i, 'word']\n",
    "    X[i, :] = get_embedding_vector(glove6b_100d,current_word)\n",
    "    words_labels.append(current_word) \n",
    "    print(f\"{i}: {current_word}\")\n",
    "# %%\n"
   ]
  },
  {
   "cell_type": "markdown",
   "metadata": {},
   "source": [
    "The following code visualizes the word embeddings from the df_word_cloud DataFrame. It first reduces the dimensionality of the embeddings to 2D using t-SNE, which helps in plotting the high-dimensional GloVe vectors in a 2D space"
   ]
  },
  {
   "cell_type": "code",
   "execution_count": 122,
   "metadata": {},
   "outputs": [],
   "source": [
    "tsne_model = TSNE(n_components=2, perplexity=25, learning_rate=0.05, random_state=10)\n",
    "X_tsne = tsne_model.fit_transform(X.cpu().numpy())\n",
    "# %%\n",
    "df_word_cloud['x'] = X_tsne[:, 0]\n",
    "df_word_cloud['y'] = X_tsne[:, 1]\n"
   ]
  },
  {
   "cell_type": "code",
   "execution_count": 123,
   "metadata": {},
   "outputs": [
    {
     "data": {
      "image/png": "[encoded data removed]"
     },
     "metadata": {
      "image/png": {
       "height": 480,
       "width": 640
      }
     },
     "output_type": "display_data"
    }
   ],
   "source": [
    "# with ggplot\n",
    "\n",
    "\n",
    "ggplot(data=df_word_cloud.sample(35)) + aes(x = 'x', y='y', label = 'word', color = 'category') + geom_text() + labs(title='GloVe Word Embeddings and Categories')\n"
   ]
  },
  {
   "cell_type": "markdown",
   "metadata": {},
   "source": [
    "Following the NLP pre-trained model, it will be nice to analize data sets to identify patter by"
   ]
  },
  {
   "cell_type": "code",
   "execution_count": null,
   "metadata": {},
   "outputs": [],
   "source": []
  },
  {
   "cell_type": "code",
   "execution_count": 124,
   "metadata": {},
   "outputs": [],
   "source": [
    "from tqdm import tqdm\n"
   ]
  },
  {
   "cell_type": "code",
   "execution_count": 125,
   "metadata": {},
   "outputs": [
    {
     "name": "stderr",
     "output_type": "stream",
     "text": [
      "/home/hernan/.local/lib/python3.10/site-packages/sentence_transformers/cross_encoder/CrossEncoder.py:11: TqdmExperimentalWarning: Using `tqdm.autonotebook.tqdm` in notebook mode. Use `tqdm.tqdm` instead to force console mode (e.g. in jupyter console)\n"
     ]
    }
   ],
   "source": [
    "### Sentiment analysis \n",
    "import numpy as np\n",
    "import pandas as pd\n",
    "import pickle\n",
    "from collections import Counter\n",
    "import seaborn as sns\n",
    "\n",
    "from sklearn.model_selection import train_test_split\n",
    "from sklearn.metrics import accuracy_score\n",
    "\n",
    "import torch\n",
    "import torch.nn as nn\n",
    "from torch.utils.data import Dataset, DataLoader\n",
    "\n",
    "from sentence_transformers import SentenceTransformer\n",
    "\n"
   ]
  },
  {
   "cell_type": "code",
   "execution_count": 126,
   "metadata": {},
   "outputs": [
    {
     "data": {
      "text/html": [
       "<div>\n",
       "<style scoped>\n",
       "    .dataframe tbody tr th:only-of-type {\n",
       "        vertical-align: middle;\n",
       "    }\n",
       "\n",
       "    .dataframe tbody tr th {\n",
       "        vertical-align: top;\n",
       "    }\n",
       "\n",
       "    .dataframe thead th {\n",
       "        text-align: right;\n",
       "    }\n",
       "</style>\n",
       "<table border=\"1\" class=\"dataframe\">\n",
       "  <thead>\n",
       "    <tr style=\"text-align: right;\">\n",
       "      <th></th>\n",
       "      <th>textID</th>\n",
       "      <th>text</th>\n",
       "      <th>selected_text</th>\n",
       "      <th>sentiment</th>\n",
       "    </tr>\n",
       "  </thead>\n",
       "  <tbody>\n",
       "    <tr>\n",
       "      <th>0</th>\n",
       "      <td>cb774db0d1</td>\n",
       "      <td>I`d have responded, if I were going</td>\n",
       "      <td>I`d have responded, if I were going</td>\n",
       "      <td>neutral</td>\n",
       "    </tr>\n",
       "    <tr>\n",
       "      <th>1</th>\n",
       "      <td>549e992a42</td>\n",
       "      <td>Sooo SAD I will miss you here in San Diego!!!</td>\n",
       "      <td>Sooo SAD</td>\n",
       "      <td>negative</td>\n",
       "    </tr>\n",
       "    <tr>\n",
       "      <th>2</th>\n",
       "      <td>088c60f138</td>\n",
       "      <td>my boss is bullying me...</td>\n",
       "      <td>bullying me</td>\n",
       "      <td>negative</td>\n",
       "    </tr>\n",
       "    <tr>\n",
       "      <th>3</th>\n",
       "      <td>9642c003ef</td>\n",
       "      <td>what interview! leave me alone</td>\n",
       "      <td>leave me alone</td>\n",
       "      <td>negative</td>\n",
       "    </tr>\n",
       "    <tr>\n",
       "      <th>4</th>\n",
       "      <td>358bd9e861</td>\n",
       "      <td>Sons of ****, why couldn`t they put them on t...</td>\n",
       "      <td>Sons of ****,</td>\n",
       "      <td>negative</td>\n",
       "    </tr>\n",
       "    <tr>\n",
       "      <th>...</th>\n",
       "      <td>...</td>\n",
       "      <td>...</td>\n",
       "      <td>...</td>\n",
       "      <td>...</td>\n",
       "    </tr>\n",
       "    <tr>\n",
       "      <th>27476</th>\n",
       "      <td>4eac33d1c0</td>\n",
       "      <td>wish we could come see u on Denver  husband l...</td>\n",
       "      <td>d lost</td>\n",
       "      <td>negative</td>\n",
       "    </tr>\n",
       "    <tr>\n",
       "      <th>27477</th>\n",
       "      <td>4f4c4fc327</td>\n",
       "      <td>I`ve wondered about rake to.  The client has ...</td>\n",
       "      <td>, don`t force</td>\n",
       "      <td>negative</td>\n",
       "    </tr>\n",
       "    <tr>\n",
       "      <th>27478</th>\n",
       "      <td>f67aae2310</td>\n",
       "      <td>Yay good for both of you. Enjoy the break - y...</td>\n",
       "      <td>Yay good for both of you.</td>\n",
       "      <td>positive</td>\n",
       "    </tr>\n",
       "    <tr>\n",
       "      <th>27479</th>\n",
       "      <td>ed167662a5</td>\n",
       "      <td>But it was worth it  ****.</td>\n",
       "      <td>But it was worth it  ****.</td>\n",
       "      <td>positive</td>\n",
       "    </tr>\n",
       "    <tr>\n",
       "      <th>27480</th>\n",
       "      <td>6f7127d9d7</td>\n",
       "      <td>All this flirting going on - The ATG smiles...</td>\n",
       "      <td>All this flirting going on - The ATG smiles. Y...</td>\n",
       "      <td>neutral</td>\n",
       "    </tr>\n",
       "  </tbody>\n",
       "</table>\n",
       "<p>27481 rows × 4 columns</p>\n",
       "</div>"
      ],
      "text/plain": [
       "           textID                                               text  \\\n",
       "0      cb774db0d1                I`d have responded, if I were going   \n",
       "1      549e992a42      Sooo SAD I will miss you here in San Diego!!!   \n",
       "2      088c60f138                          my boss is bullying me...   \n",
       "3      9642c003ef                     what interview! leave me alone   \n",
       "4      358bd9e861   Sons of ****, why couldn`t they put them on t...   \n",
       "...           ...                                                ...   \n",
       "27476  4eac33d1c0   wish we could come see u on Denver  husband l...   \n",
       "27477  4f4c4fc327   I`ve wondered about rake to.  The client has ...   \n",
       "27478  f67aae2310   Yay good for both of you. Enjoy the break - y...   \n",
       "27479  ed167662a5                         But it was worth it  ****.   \n",
       "27480  6f7127d9d7     All this flirting going on - The ATG smiles...   \n",
       "\n",
       "                                           selected_text sentiment  \n",
       "0                    I`d have responded, if I were going   neutral  \n",
       "1                                               Sooo SAD  negative  \n",
       "2                                            bullying me  negative  \n",
       "3                                         leave me alone  negative  \n",
       "4                                          Sons of ****,  negative  \n",
       "...                                                  ...       ...  \n",
       "27476                                             d lost  negative  \n",
       "27477                                      , don`t force  negative  \n",
       "27478                          Yay good for both of you.  positive  \n",
       "27479                         But it was worth it  ****.  positive  \n",
       "27480  All this flirting going on - The ATG smiles. Y...   neutral  \n",
       "\n",
       "[27481 rows x 4 columns]"
      ]
     },
     "execution_count": 126,
     "metadata": {},
     "output_type": "execute_result"
    }
   ],
   "source": [
    "#Load the data\n",
    "df = pd.read_csv(\"data/Tweets.csv\")\n",
    "df"
   ]
  },
  {
   "cell_type": "code",
   "execution_count": 127,
   "metadata": {},
   "outputs": [],
   "source": [
    "## The next part is just the mapping of the categories into numerical values\n",
    "\n",
    "cat_id = {\"neutral\":1,\n",
    "          \"negative\":0,\n",
    "          \"positive\": 2}\n",
    "\n",
    "df[\"class\"]=df[\"sentiment\"].map(cat_id)"
   ]
  },
  {
   "cell_type": "code",
   "execution_count": 128,
   "metadata": {},
   "outputs": [
    {
     "data": {
      "text/html": [
       "<div>\n",
       "<style scoped>\n",
       "    .dataframe tbody tr th:only-of-type {\n",
       "        vertical-align: middle;\n",
       "    }\n",
       "\n",
       "    .dataframe tbody tr th {\n",
       "        vertical-align: top;\n",
       "    }\n",
       "\n",
       "    .dataframe thead th {\n",
       "        text-align: right;\n",
       "    }\n",
       "</style>\n",
       "<table border=\"1\" class=\"dataframe\">\n",
       "  <thead>\n",
       "    <tr style=\"text-align: right;\">\n",
       "      <th></th>\n",
       "      <th>textID</th>\n",
       "      <th>text</th>\n",
       "      <th>selected_text</th>\n",
       "      <th>sentiment</th>\n",
       "      <th>class</th>\n",
       "    </tr>\n",
       "  </thead>\n",
       "  <tbody>\n",
       "    <tr>\n",
       "      <th>0</th>\n",
       "      <td>cb774db0d1</td>\n",
       "      <td>I`d have responded, if I were going</td>\n",
       "      <td>I`d have responded, if I were going</td>\n",
       "      <td>neutral</td>\n",
       "      <td>1</td>\n",
       "    </tr>\n",
       "    <tr>\n",
       "      <th>1</th>\n",
       "      <td>549e992a42</td>\n",
       "      <td>Sooo SAD I will miss you here in San Diego!!!</td>\n",
       "      <td>Sooo SAD</td>\n",
       "      <td>negative</td>\n",
       "      <td>0</td>\n",
       "    </tr>\n",
       "    <tr>\n",
       "      <th>2</th>\n",
       "      <td>088c60f138</td>\n",
       "      <td>my boss is bullying me...</td>\n",
       "      <td>bullying me</td>\n",
       "      <td>negative</td>\n",
       "      <td>0</td>\n",
       "    </tr>\n",
       "    <tr>\n",
       "      <th>3</th>\n",
       "      <td>9642c003ef</td>\n",
       "      <td>what interview! leave me alone</td>\n",
       "      <td>leave me alone</td>\n",
       "      <td>negative</td>\n",
       "      <td>0</td>\n",
       "    </tr>\n",
       "    <tr>\n",
       "      <th>4</th>\n",
       "      <td>358bd9e861</td>\n",
       "      <td>Sons of ****, why couldn`t they put them on t...</td>\n",
       "      <td>Sons of ****,</td>\n",
       "      <td>negative</td>\n",
       "      <td>0</td>\n",
       "    </tr>\n",
       "    <tr>\n",
       "      <th>...</th>\n",
       "      <td>...</td>\n",
       "      <td>...</td>\n",
       "      <td>...</td>\n",
       "      <td>...</td>\n",
       "      <td>...</td>\n",
       "    </tr>\n",
       "    <tr>\n",
       "      <th>27476</th>\n",
       "      <td>4eac33d1c0</td>\n",
       "      <td>wish we could come see u on Denver  husband l...</td>\n",
       "      <td>d lost</td>\n",
       "      <td>negative</td>\n",
       "      <td>0</td>\n",
       "    </tr>\n",
       "    <tr>\n",
       "      <th>27477</th>\n",
       "      <td>4f4c4fc327</td>\n",
       "      <td>I`ve wondered about rake to.  The client has ...</td>\n",
       "      <td>, don`t force</td>\n",
       "      <td>negative</td>\n",
       "      <td>0</td>\n",
       "    </tr>\n",
       "    <tr>\n",
       "      <th>27478</th>\n",
       "      <td>f67aae2310</td>\n",
       "      <td>Yay good for both of you. Enjoy the break - y...</td>\n",
       "      <td>Yay good for both of you.</td>\n",
       "      <td>positive</td>\n",
       "      <td>2</td>\n",
       "    </tr>\n",
       "    <tr>\n",
       "      <th>27479</th>\n",
       "      <td>ed167662a5</td>\n",
       "      <td>But it was worth it  ****.</td>\n",
       "      <td>But it was worth it  ****.</td>\n",
       "      <td>positive</td>\n",
       "      <td>2</td>\n",
       "    </tr>\n",
       "    <tr>\n",
       "      <th>27480</th>\n",
       "      <td>6f7127d9d7</td>\n",
       "      <td>All this flirting going on - The ATG smiles...</td>\n",
       "      <td>All this flirting going on - The ATG smiles. Y...</td>\n",
       "      <td>neutral</td>\n",
       "      <td>1</td>\n",
       "    </tr>\n",
       "  </tbody>\n",
       "</table>\n",
       "<p>27481 rows × 5 columns</p>\n",
       "</div>"
      ],
      "text/plain": [
       "           textID                                               text  \\\n",
       "0      cb774db0d1                I`d have responded, if I were going   \n",
       "1      549e992a42      Sooo SAD I will miss you here in San Diego!!!   \n",
       "2      088c60f138                          my boss is bullying me...   \n",
       "3      9642c003ef                     what interview! leave me alone   \n",
       "4      358bd9e861   Sons of ****, why couldn`t they put them on t...   \n",
       "...           ...                                                ...   \n",
       "27476  4eac33d1c0   wish we could come see u on Denver  husband l...   \n",
       "27477  4f4c4fc327   I`ve wondered about rake to.  The client has ...   \n",
       "27478  f67aae2310   Yay good for both of you. Enjoy the break - y...   \n",
       "27479  ed167662a5                         But it was worth it  ****.   \n",
       "27480  6f7127d9d7     All this flirting going on - The ATG smiles...   \n",
       "\n",
       "                                           selected_text sentiment  class  \n",
       "0                    I`d have responded, if I were going   neutral      1  \n",
       "1                                               Sooo SAD  negative      0  \n",
       "2                                            bullying me  negative      0  \n",
       "3                                         leave me alone  negative      0  \n",
       "4                                          Sons of ****,  negative      0  \n",
       "...                                                  ...       ...    ...  \n",
       "27476                                             d lost  negative      0  \n",
       "27477                                      , don`t force  negative      0  \n",
       "27478                          Yay good for both of you.  positive      2  \n",
       "27479                         But it was worth it  ****.  positive      2  \n",
       "27480  All this flirting going on - The ATG smiles. Y...   neutral      1  \n",
       "\n",
       "[27481 rows x 5 columns]"
      ]
     },
     "execution_count": 128,
     "metadata": {},
     "output_type": "execute_result"
    }
   ],
   "source": [
    "df"
   ]
  },
  {
   "cell_type": "code",
   "execution_count": 129,
   "metadata": {},
   "outputs": [
    {
     "name": "stderr",
     "output_type": "stream",
     "text": [
      "/home/hernan/.local/lib/python3.10/site-packages/transformers/tokenization_utils_base.py:1601: FutureWarning: `clean_up_tokenization_spaces` was not set. It will be set to `True` by default. This behavior will be depracted in transformers v4.45, and will be then set to `False` by default. For more details check this issue: https://github.com/huggingface/transformers/issues/31884\n"
     ]
    }
   ],
   "source": [
    "## now we need to work on the embedding process. The model I chosse was from\n",
    "# https://huggingface.co/sentence-transformers/all-mpnet-base-v2.\n",
    "# \"This is a sentence-transformers model: It maps sentences & paragraphs to a 768 dimensional dense vector space and can be used for tasks like \n",
    "# clustering or semantic search.\"\n",
    "\n",
    "emb_model = SentenceTransformer('sentence-transformers/all-mpnet-base-v2')\n"
   ]
  },
  {
   "cell_type": "code",
   "execution_count": 130,
   "metadata": {},
   "outputs": [
    {
     "name": "stdout",
     "output_type": "stream",
     "text": [
      "(768,) [[ 6.36698008e-02 -7.60731772e-02  2.95098196e-03  4.36819457e-02\n",
      "  -6.91066682e-02  5.80112897e-02  8.60885810e-03 -3.19974013e-02\n",
      "  -4.49120514e-02 -2.82861385e-02 -3.25297415e-02  4.07058932e-02\n",
      "   1.01843506e-01  5.36248721e-02  3.46165337e-02 -3.76363881e-02\n",
      "  -1.10083017e-02  6.39304221e-02 -1.03024200e-01 -1.04824668e-02\n",
      "   3.59485969e-02 -7.27915112e-03 -2.30274834e-02 -5.98170562e-03\n",
      "  -4.38562483e-02  1.72224343e-02 -2.20150314e-02  6.27562553e-02\n",
      "  -3.65425013e-02  5.16343769e-03 -2.53235046e-02  3.14808413e-02\n",
      "  -2.04691719e-02  1.83532648e-02  1.60897889e-06 -5.24459183e-02\n",
      "   1.13247866e-02 -1.18055847e-02  4.90628881e-03 -2.78951954e-02\n",
      "  -1.05216568e-02 -4.13841684e-04  4.72524017e-03  3.63269672e-02\n",
      "   8.40852689e-03 -3.41305360e-02  1.03869941e-03  2.92701330e-02\n",
      "   3.80811840e-02  4.36698925e-03 -9.73796565e-03 -4.10522781e-02\n",
      "   2.65751723e-02  1.36244658e-03  2.32412778e-02 -3.13005112e-02\n",
      "   3.30924131e-02 -5.64193577e-02  1.06217667e-01 -2.80299354e-02\n",
      "   2.04821061e-02 -1.37576340e-02 -3.45434956e-02 -2.73755435e-02\n",
      "   4.66833487e-02  3.57295349e-02  2.70273574e-02 -1.09938100e-01\n",
      "  -2.03613210e-02 -5.76263703e-02  2.71189027e-02  2.34737881e-02\n",
      "   6.52938262e-02  8.13007280e-02 -1.86898317e-02  6.18058592e-02\n",
      "  -2.07059383e-02 -3.38699147e-02  1.51780965e-02 -8.23704898e-03\n",
      "  -6.47233501e-02  1.71648234e-03 -1.53754177e-02  1.74574088e-03\n",
      "   4.97995578e-02  4.27985936e-02 -2.12774556e-02  1.75445415e-02\n",
      "   8.70697573e-03  8.77753496e-02  3.72820273e-02 -1.11640699e-01\n",
      "   6.59740865e-02  4.12550122e-02 -1.84192061e-02  1.35911657e-02\n",
      "  -2.49511171e-02 -8.21594323e-04 -1.22627541e-02 -2.84381513e-03\n",
      "  -4.07567285e-02  4.13091443e-02  3.66780497e-02  3.29685137e-02\n",
      "   1.56165659e-02 -1.62587661e-04 -8.84162448e-03 -1.47643704e-02\n",
      "  -2.83827316e-02  6.54916018e-02 -4.68338691e-02 -4.78265658e-02\n",
      "   3.22497869e-03  7.46440142e-02 -1.10356398e-02 -6.65053651e-02\n",
      "   1.04100797e-02 -9.53453407e-03  1.61722917e-02  2.16505770e-02\n",
      "   4.73977393e-03 -1.73852835e-02  7.07818866e-02  3.04932613e-02\n",
      "  -5.93087450e-02  2.02897266e-02 -9.02955700e-03 -4.71419934e-03\n",
      "   2.33544689e-02 -2.40084389e-03 -3.03477217e-02 -1.53469639e-02\n",
      "  -1.08630434e-02 -3.24213179e-04 -2.08501406e-02 -1.38441939e-02\n",
      "   7.37888739e-03  6.27221242e-02 -4.00479920e-02 -9.69591457e-03\n",
      "   2.26856917e-02 -3.86397950e-02 -7.33475834e-02 -3.34153660e-02\n",
      "   2.75097676e-02  2.14482266e-02  2.27688421e-02  2.59978101e-02\n",
      "   1.30142849e-02  1.84025281e-04 -5.48751466e-02  3.10585350e-02\n",
      "  -4.19059806e-02  9.70608089e-03  5.68715110e-02  4.31548581e-02\n",
      "  -7.13553373e-03  1.35735534e-02  9.71461181e-03 -3.38369049e-02\n",
      "  -3.96369910e-03  3.79392281e-02 -1.16084404e-02 -3.10364459e-02\n",
      "   1.58847719e-02  3.26426178e-02 -1.27144242e-02 -3.48185515e-03\n",
      "  -3.34455967e-02 -5.46161644e-02  1.05353212e-02 -1.57126188e-02\n",
      "  -2.25152597e-02  9.87631008e-02 -1.19846202e-02 -3.79032418e-02\n",
      "   2.86442991e-02 -3.16574425e-03 -6.40229881e-02  1.63072180e-02\n",
      "  -4.29237552e-04  2.68958360e-02 -4.93720323e-02  2.85228640e-02\n",
      "  -9.76176038e-02 -1.30682513e-02 -2.17834823e-02  5.97941764e-02\n",
      "  -7.27442056e-02 -6.09023198e-02 -8.05035606e-03  4.46443185e-02\n",
      "   1.11812316e-02 -2.75360290e-02 -2.45697633e-03  4.84665819e-02\n",
      "   7.11719878e-03 -8.92770197e-03  1.88863464e-02  6.29768595e-02\n",
      "   5.15728965e-02 -4.59652171e-02  6.05226979e-02  6.11068904e-02\n",
      "   2.43657529e-02  4.93405648e-02  7.45815318e-03 -3.78351174e-02\n",
      "  -3.41083780e-02  6.49908977e-03 -6.03088103e-02  5.27990758e-02\n",
      "  -2.94970144e-02  1.35573931e-02 -6.89417198e-02  5.09614013e-02\n",
      "   1.46684078e-02  4.05530147e-02 -5.34569658e-02 -7.73322349e-03\n",
      "  -3.23630460e-02  7.10419193e-02  8.68836120e-02  2.03584116e-02\n",
      "   2.14461936e-03  4.98035103e-02 -6.89932927e-02  1.59936380e-02\n",
      "  -5.51063195e-02 -2.53111590e-02  1.90382060e-02 -6.07154751e-03\n",
      "   3.64621282e-02 -1.78694376e-03 -1.36899184e-02  7.41520606e-04\n",
      "   4.67838384e-02  3.38511504e-02 -1.19454330e-02 -2.21072938e-02\n",
      "   2.71732751e-02  6.01341901e-03  3.88623402e-02 -4.67535853e-02\n",
      "   7.19347596e-02 -1.16135404e-02 -4.34171818e-02  1.34547492e-02\n",
      "   1.51324924e-02  8.68883077e-03 -3.31925377e-02  1.50755607e-02\n",
      "   2.89159790e-02  1.14027858e-02 -2.79232394e-02  1.90984569e-02\n",
      "   1.54681120e-03  4.59886231e-02 -1.90462023e-02  7.32748806e-02\n",
      "   3.98715446e-03 -2.37885956e-02 -1.61878858e-03 -4.00764942e-02\n",
      "  -4.14702184e-02 -3.20021585e-02 -1.54380603e-02  2.06638742e-02\n",
      "  -1.03092622e-02 -3.44443619e-02  2.59262342e-02  9.62478458e-04\n",
      "  -6.29741931e-03  1.51168753e-03  1.11405877e-02  1.76498946e-02\n",
      "   1.61933023e-02  2.58201659e-02 -8.48947614e-02 -5.73198032e-03\n",
      "   9.40641239e-02  1.09807914e-02 -5.82788736e-02  7.96155166e-03\n",
      "   1.71759643e-03  6.70017153e-02  9.36166290e-03 -5.44768833e-02\n",
      "  -7.78947026e-02 -9.13192332e-02  2.59585567e-02 -4.09695432e-02\n",
      "   3.78564820e-02 -8.40999372e-03  1.59083828e-02 -3.24786617e-03\n",
      "   1.96008645e-02  1.78814046e-02 -4.59662359e-03 -1.92823093e-02\n",
      "   5.10659218e-02  5.05880378e-02 -4.54360545e-02  5.89535944e-03\n",
      "   4.13234569e-02  2.87143164e-03 -4.46929298e-02  2.83609368e-02\n",
      "  -4.89846990e-02  4.30248901e-02  6.70886561e-02  3.12208775e-02\n",
      "  -6.56503588e-02  4.45040539e-02 -1.53821651e-02 -2.69089993e-02\n",
      "  -5.09331971e-02 -5.14287241e-02  2.01793015e-02  1.11854728e-02\n",
      "   9.80297569e-03 -1.86476093e-02 -6.21830067e-03 -1.16710654e-02\n",
      "  -1.46729611e-02 -3.61536369e-02  9.72418208e-03  3.92028876e-02\n",
      "   1.73317268e-02  3.40734459e-02  2.17443518e-02 -3.20039913e-02\n",
      "   1.86597127e-02  7.16435239e-02  2.74212402e-03 -2.75219865e-02\n",
      "  -7.83194439e-04 -7.05664009e-02 -2.48180423e-02  8.00841488e-03\n",
      "  -5.88114560e-03 -2.95990240e-03 -2.02010311e-02  3.31111689e-04\n",
      "  -6.29075319e-02  2.35300772e-02 -3.61268874e-03  3.00105046e-02\n",
      "   3.46004544e-03  1.18282484e-02  1.05962858e-01 -3.39355096e-02\n",
      "  -2.01450568e-02  1.22391211e-04 -2.80699562e-02 -1.27069531e-02\n",
      "  -2.54931021e-02 -2.90296110e-03  1.36844562e-02 -1.81203354e-02\n",
      "   9.46729351e-03 -1.90352667e-02  4.79258299e-02  3.39099616e-02\n",
      "  -4.55224887e-02  2.77653560e-02  2.87764706e-02  1.24564404e-02\n",
      "  -9.80863348e-03 -2.39286479e-02 -7.16521358e-03  5.60883693e-02\n",
      "   1.36623112e-02  3.48147042e-02 -8.91653879e-04 -1.79188773e-02\n",
      "  -6.15570322e-03 -1.28868343e-02 -3.84565294e-02  1.04534905e-02\n",
      "   8.27034842e-03 -1.51075507e-02  1.75983552e-02  2.37077195e-02\n",
      "  -2.81053670e-02  6.56436905e-02  9.53886472e-03 -2.48169489e-02\n",
      "  -4.89983521e-03  1.17744282e-02  3.24448161e-02 -1.73155796e-02\n",
      "  -5.73951304e-02 -9.18136095e-04 -1.17401313e-02 -1.02825724e-02\n",
      "  -1.33947199e-02  7.33418902e-03  6.00188877e-03  6.17754944e-02\n",
      "  -6.43628230e-03  5.85035719e-02  2.04754528e-02 -5.06350286e-02\n",
      "   2.49170922e-02  6.85993256e-03  3.91995385e-02  2.76250206e-02\n",
      "   1.03869028e-02 -3.33236065e-03  8.49892199e-03 -5.91183566e-02\n",
      "   4.41694148e-02 -5.06450934e-03 -1.19594401e-02  1.41171040e-02\n",
      "   7.70854950e-03  6.47533610e-02  9.57106357e-04 -2.95261703e-02\n",
      "   1.40005313e-02  3.51718552e-02 -4.95591536e-02  7.57651823e-03\n",
      "   3.76157314e-02  6.82205241e-03  7.75785893e-02  3.37729789e-02\n",
      "   2.40543801e-02  1.30192302e-02  3.14902747e-03 -7.88409542e-03\n",
      "  -1.04993861e-02  6.75970614e-02 -2.11722758e-02 -2.42010355e-02\n",
      "  -1.29436729e-02  2.84360107e-02  3.12015228e-02  1.58077627e-02\n",
      "   1.47094158e-02  6.73208199e-03  1.24492431e-02  2.25113146e-02\n",
      "   1.70338936e-02 -3.53423059e-02  1.56346876e-02  3.84948403e-02\n",
      "  -1.40442019e-02  3.19775864e-02  1.16854459e-02 -1.29199689e-02\n",
      "  -3.02128214e-02  3.12612988e-02 -3.17060277e-02 -3.49866822e-02\n",
      "  -4.28589322e-02 -2.70160171e-03 -2.56616808e-02 -9.47540253e-03\n",
      "  -3.06982044e-02  3.82253639e-02  1.35997012e-02  8.60474724e-03\n",
      "  -6.84965216e-03 -1.19709693e-01 -7.70647079e-03 -4.83734496e-02\n",
      "  -3.67860906e-02 -1.39893042e-02  8.90712487e-04 -1.45221995e-02\n",
      "  -2.51153531e-03 -1.35728344e-02 -2.63613183e-02 -6.68649077e-02\n",
      "  -8.52649882e-02 -9.40125883e-02 -8.52698740e-03  2.42031668e-03\n",
      "  -3.57690491e-02  6.39731064e-02 -2.39846651e-02  2.08693352e-02\n",
      "   2.90236305e-02  3.70044447e-02  3.46575268e-02 -6.16073026e-04\n",
      "  -2.84872670e-02 -3.89943644e-02  3.53284739e-02  3.05486359e-02\n",
      "   1.33409193e-02  2.81070117e-02  7.85576558e-05 -8.96841940e-03\n",
      "   2.35089548e-02 -5.70856594e-03  1.44187231e-02 -6.30368739e-02\n",
      "  -3.15908603e-02  1.16078937e-02  2.31517646e-02  7.63587654e-02\n",
      "   2.82300892e-03 -2.57738656e-03 -6.23131171e-02  1.27444966e-02\n",
      "  -2.70324014e-02  3.48868920e-03  3.67104821e-02  4.00791541e-02\n",
      "  -2.35582963e-02 -3.64575200e-02  9.39827114e-02  3.46224234e-02\n",
      "  -9.28148255e-03 -2.22346652e-02  5.24655208e-02  3.46659236e-02\n",
      "  -1.31495428e-04 -1.64483916e-02  1.60900243e-02 -7.15444461e-02\n",
      "   5.37490435e-02 -4.69414815e-02  1.63802821e-02 -5.24718454e-03\n",
      "  -7.07287639e-02  5.23810685e-02 -9.06447619e-02 -2.93911304e-02\n",
      "   2.92647593e-02  2.06468417e-03 -1.74822961e-03  1.00597134e-02\n",
      "   5.59260845e-02  3.78650390e-02 -4.03813012e-02 -2.91378014e-02\n",
      "   1.68828797e-02  2.46571936e-02  7.42284395e-03 -1.26073183e-02\n",
      "   5.99220246e-02  3.77860060e-03  7.40228547e-03 -2.02114843e-02\n",
      "  -2.56198794e-02 -2.91755870e-02  2.75044218e-02 -1.39535870e-02\n",
      "   7.01053580e-03  5.59474574e-03  7.35962540e-02 -6.43271651e-33\n",
      "  -3.17825451e-02 -2.05319375e-02  8.64748750e-03  7.89810345e-03\n",
      "   1.81597862e-02  2.13103346e-03 -3.62643898e-02 -6.29317760e-03\n",
      "  -5.39328977e-02 -1.28435260e-02 -7.25286966e-03 -1.61021464e-02\n",
      "   1.94774680e-02  5.48833534e-02 -1.64063647e-02 -3.79132740e-02\n",
      "   3.00461743e-02  2.12068222e-02  1.26472553e-02 -2.83451919e-02\n",
      "   2.94654723e-03  2.88356524e-02 -5.87026291e-02 -3.72918285e-02\n",
      "   7.31077790e-03 -3.53015140e-02 -5.89238144e-02  3.77558544e-02\n",
      "  -2.83947922e-02  4.78730053e-02 -2.62828954e-02 -1.55761214e-02\n",
      "  -3.71785797e-02  1.22142006e-02  6.38664002e-03  7.35540539e-02\n",
      "  -1.04282118e-01 -1.14986803e-02  4.63058590e-04  7.55679421e-03\n",
      "  -7.06207678e-02 -2.03783344e-02  2.24623401e-02  1.11846076e-02\n",
      "  -5.10778138e-03 -3.48995104e-02  7.27301417e-03  1.89126227e-02\n",
      "   1.25326412e-02  3.23924087e-02  1.18419044e-02  1.23469867e-02\n",
      "  -2.35456675e-02 -4.42589931e-02  5.69790602e-03 -7.65273720e-02\n",
      "   1.71483029e-02 -1.90614872e-02 -1.28613831e-02  1.76265966e-02\n",
      "  -4.48952056e-02  6.14187401e-03 -2.20697913e-02  1.06353844e-02\n",
      "   5.83503442e-03  5.14860079e-03 -7.05078840e-02 -3.89147028e-02\n",
      "  -4.23291698e-02  3.54888402e-02  1.00888051e-02  1.65468119e-02\n",
      "   6.05356880e-02 -2.94502228e-02 -1.58431437e-02 -1.85221210e-02\n",
      "  -3.82748172e-02  1.37201836e-02  6.53497130e-02  2.52328557e-03\n",
      "  -3.47529203e-02  5.01856543e-02  6.72722002e-03 -1.09830098e-02\n",
      "  -2.33491790e-02 -6.33676425e-02 -3.74005511e-02 -5.92735484e-02\n",
      "  -1.43837370e-02  3.71830016e-02 -3.43860351e-02 -4.89427068e-04\n",
      "  -4.22500260e-02 -9.78221651e-03 -4.53968858e-03  2.08504032e-02\n",
      "   7.10817054e-02 -2.72092875e-02  2.09388416e-02 -5.65122142e-02\n",
      "  -3.07789836e-02 -9.13240295e-03 -1.49935558e-02 -1.97229194e-04\n",
      "  -4.51704822e-02  1.05376802e-02 -8.91359337e-03  3.31058167e-02\n",
      "   1.40911918e-02  1.37361325e-02  1.22839566e-02  4.21445295e-02\n",
      "  -1.27282972e-02 -7.12960884e-02 -3.61654870e-02  3.44407335e-02\n",
      "  -9.82253114e-04 -3.68428230e-02  4.64955578e-03 -2.20860895e-02\n",
      "   9.35591292e-03  2.20565721e-02 -3.49559337e-02  2.57120561e-02\n",
      "   1.51526975e-03 -7.03130034e-04 -2.40564197e-02 -7.15266727e-03\n",
      "   5.76134957e-02  4.50526271e-03 -8.39962531e-03 -6.05133711e-04\n",
      "   2.27964946e-07  1.85551681e-02  8.69636796e-03 -6.15461823e-03\n",
      "   1.59306768e-02 -2.99432292e-03 -4.50542122e-02 -8.54771584e-02\n",
      "   2.47499123e-02  3.19755897e-02 -4.08020504e-02  9.13086627e-03\n",
      "   3.39621268e-02  3.85521837e-02  1.21834083e-02 -1.44817764e-02\n",
      "  -4.56804000e-02  6.12612031e-02 -8.57135430e-02  2.08378318e-04\n",
      "  -2.14000959e-02  6.83177114e-02  2.34639514e-02  5.47982492e-02\n",
      "   4.29022126e-02 -1.16917454e-02 -7.07589239e-02  6.61915354e-03\n",
      "  -1.21855401e-02  4.33910899e-02 -1.91793647e-02 -2.45518517e-02\n",
      "   3.32873687e-02  2.22075302e-02  3.80024058e-03 -1.72463376e-02\n",
      "   3.01501248e-02 -2.08823476e-02  6.23007454e-02 -5.24183363e-02\n",
      "   3.22638266e-03 -3.17535549e-02 -1.73098035e-02  2.73083709e-03\n",
      "  -4.80896141e-03 -9.25542228e-03 -2.99883932e-02  1.27801811e-02\n",
      "   8.09072983e-03  2.54874285e-02 -2.52857637e-02  1.24089047e-02\n",
      "   5.76353893e-02 -2.25193556e-02  2.63272654e-02  1.21107930e-02\n",
      "   1.10504506e-02 -2.00288910e-02  3.91538348e-03 -7.25726411e-03\n",
      "   1.02710433e-01 -4.52903323e-02 -7.66419712e-03  2.36375649e-02\n",
      "  -1.41982790e-02 -5.10300696e-02 -1.52103108e-04 -1.01547763e-01\n",
      "   1.19443106e-34 -1.56204896e-02 -4.14927112e-04  7.43110024e-04\n",
      "   2.34786756e-02  3.80173605e-03 -2.40955595e-02  2.68004555e-02\n",
      "   1.26231536e-02  3.31303924e-02 -2.91421097e-02 -2.49724817e-02]]\n"
     ]
    }
   ],
   "source": [
    "sentences = [\"How is this working together?\"]\n",
    "\n",
    "embeddings = emb_model.encode(sentences)\n",
    "print(embeddings.squeeze().shape,embeddings)"
   ]
  },
  {
   "cell_type": "code",
   "execution_count": 131,
   "metadata": {},
   "outputs": [
    {
     "data": {
      "text/plain": [
       "array([' I`d have responded, if I were going',\n",
       "       ' Sooo SAD I will miss you here in San Diego!!!',\n",
       "       'my boss is bullying me...', ...,\n",
       "       ' Yay good for both of you. Enjoy the break - you probably need it after such hectic weekend  Take care hun xxxx',\n",
       "       ' But it was worth it  ****.',\n",
       "       '   All this flirting going on - The ATG smiles. Yay.  ((hugs))'],\n",
       "      dtype=object)"
      ]
     },
     "execution_count": 131,
     "metadata": {},
     "output_type": "execute_result"
    }
   ],
   "source": [
    "df[\"text\"].values"
   ]
  },
  {
   "cell_type": "markdown",
   "metadata": {},
   "source": [
    "\n",
    "This line of code takes a list of sentences and converts them into numerical vectors using a pre-trained model, i.e. the `emb_model`. Essentially, it transforms the sentences into embeddings. One can then use these embeddings for various tasks, such as measuring similarity or classification. In this case, I’m encoding Twitter text.\n",
    "\n",
    "The `embeddings` variable will hold these numerical vectors. If you provide multiple sentences, you’ll get a 2D array (or tensor), where each row represents a sentence's embedding. For a single sentence, it might return a 1D array, depending on the model. I’m also saving these embeddings as `X` for future use, so I don’t have to run the encoding process every time."
   ]
  },
  {
   "cell_type": "code",
   "execution_count": 132,
   "metadata": {},
   "outputs": [],
   "source": [
    "X = emb_model.encode(df[\"text\"].values)\n",
    "with open(\"data/tweet_X.pkl\",\"wb\") as output_file:\n",
    "    pickle.dump(X,output_file)\n"
   ]
  },
  {
   "cell_type": "code",
   "execution_count": 133,
   "metadata": {},
   "outputs": [],
   "source": [
    "with open(\"data/tweet_X.pkl\", \"rb\") as input_file:\n",
    "    X = pickle.load(input_file)\n",
    "##Here I just acceses the embbeding values and stored in y\n",
    "y = df['class'].values"
   ]
  },
  {
   "cell_type": "code",
   "execution_count": 135,
   "metadata": {},
   "outputs": [
    {
     "data": {
      "text/plain": [
       "((27481, 768), (27481,))"
      ]
     },
     "execution_count": 135,
     "metadata": {},
     "output_type": "execute_result"
    }
   ],
   "source": [
    "#some dimentional cheking\n",
    "X.shape, y.shape"
   ]
  },
  {
   "cell_type": "code",
   "execution_count": 136,
   "metadata": {},
   "outputs": [],
   "source": [
    "#Now the training part, for that I split the set as usual\n",
    "\n",
    "\n",
    "X_train, X_test, y_train, y_test = train_test_split(X, y, test_size=0.5, random_state=123)\n"
   ]
  },
  {
   "cell_type": "code",
   "execution_count": 137,
   "metadata": {},
   "outputs": [],
   "source": [
    "#This SentimentData class is used to manage and process data for sentiment analysis in PyTorch. \n",
    "# It stores features and labels as tensors and integrates with PyTorch's DataLoader for efficient \n",
    "# data handling during model training and evaluation.\n",
    "\n",
    "\n",
    "class SentimentData(Dataset):\n",
    "    def __init__(self, X, y):\n",
    "        super(SentimentData, self).__init__()\n",
    "        self.X = torch.Tensor(X)\n",
    "        self.y = torch.Tensor(y).long()\n",
    "        self.len = len(self.X)\n",
    "\n",
    "    def __len__(self):\n",
    "        return self.len\n",
    "\n",
    "    def __getitem__(self, index):\n",
    "        return self.X[index], self.y[index]\n",
    "\n",
    "\n",
    "    "
   ]
  },
  {
   "cell_type": "code",
   "execution_count": null,
   "metadata": {},
   "outputs": [],
   "source": []
  },
  {
   "cell_type": "code",
   "execution_count": 138,
   "metadata": {},
   "outputs": [],
   "source": [
    "#instanse of the datasets\n",
    "train_ds = SentimentData(X=X_train,y=y_train)\n",
    "test_ds = SentimentData(X=X_test,y=y_test)"
   ]
  },
  {
   "cell_type": "code",
   "execution_count": 139,
   "metadata": {},
   "outputs": [],
   "source": [
    "##Create the data loader\n",
    "##some hypermarameters that I'll use\n",
    "BATCH_SIZE = 128\n",
    "NUM_EPOCHS = 80\n",
    "MAX_FEATURES = 10\n",
    "\n",
    "train_loader = DataLoader(dataset=train_ds,batch_size=BATCH_SIZE,shuffle=True)\n",
    "\n",
    "test_loader  = DataLoader(dataset=test_ds,batch_size=BATCH_SIZE,shuffle=True)\n"
   ]
  },
  {
   "cell_type": "code",
   "execution_count": 140,
   "metadata": {},
   "outputs": [],
   "source": [
    "##The model\n",
    "\n",
    "class SentimentModel(nn.Module):\n",
    "    def __init__(self, NUM_FEATURES, NUM_CLASSES, HIDDEN = 10):\n",
    "        super().__init__()\n",
    "        self.linear = nn.Linear(NUM_FEATURES, HIDDEN)\n",
    "        self.linear2 = nn.Linear(HIDDEN, NUM_CLASSES)\n",
    "        self.relu = nn.ReLU()\n",
    "        self.log_softmax = nn.LogSoftmax(dim=1)\n",
    "        \n",
    "    def forward(self, x):\n",
    "        x = self.linear(x)\n",
    "        x = self.relu(x)\n",
    "        x = self.linear2(x)\n",
    "        x = self.log_softmax(x)\n",
    "        return x\n",
    "\n"
   ]
  },
  {
   "cell_type": "code",
   "execution_count": 158,
   "metadata": {},
   "outputs": [
    {
     "name": "stdout",
     "output_type": "stream",
     "text": [
      "Epoch 0, Loss: 108.99900126457214\n",
      "Epoch 1, Loss: 90.4163150191307\n",
      "Epoch 2, Loss: 82.6683400273323\n",
      "Epoch 3, Loss: 79.87826198339462\n",
      "Epoch 4, Loss: 78.48845422267914\n",
      "Epoch 5, Loss: 77.39098799228668\n",
      "Epoch 6, Loss: 76.58788120746613\n",
      "Epoch 7, Loss: 75.9509996175766\n",
      "Epoch 8, Loss: 75.28265106678009\n",
      "Epoch 9, Loss: 74.84801679849625\n",
      "Epoch 10, Loss: 74.41284054517746\n",
      "Epoch 11, Loss: 74.08572173118591\n",
      "Epoch 12, Loss: 73.64636939764023\n",
      "Epoch 13, Loss: 73.25993835926056\n",
      "Epoch 14, Loss: 72.87286856770515\n",
      "Epoch 15, Loss: 72.59383058547974\n",
      "Epoch 16, Loss: 72.28641420602798\n",
      "Epoch 17, Loss: 71.95400410890579\n",
      "Epoch 18, Loss: 71.81923335790634\n",
      "Epoch 19, Loss: 71.42522948980331\n",
      "Epoch 20, Loss: 71.08463561534882\n",
      "Epoch 21, Loss: 70.92311292886734\n",
      "Epoch 22, Loss: 70.52689316868782\n",
      "Epoch 23, Loss: 70.32845842838287\n",
      "Epoch 24, Loss: 70.27489507198334\n",
      "Epoch 25, Loss: 69.79864978790283\n",
      "Epoch 26, Loss: 69.71716099977493\n",
      "Epoch 27, Loss: 69.48838859796524\n",
      "Epoch 28, Loss: 69.15569776296616\n",
      "Epoch 29, Loss: 69.00026160478592\n",
      "Epoch 30, Loss: 68.72360688447952\n",
      "Epoch 31, Loss: 68.59992611408234\n",
      "Epoch 32, Loss: 68.33056879043579\n",
      "Epoch 33, Loss: 68.13378623127937\n",
      "Epoch 34, Loss: 67.9343019425869\n",
      "Epoch 35, Loss: 67.81253969669342\n",
      "Epoch 36, Loss: 67.51971310377121\n",
      "Epoch 37, Loss: 67.26334834098816\n",
      "Epoch 38, Loss: 67.16710093617439\n",
      "Epoch 39, Loss: 66.9174373447895\n",
      "Epoch 40, Loss: 66.93829149007797\n",
      "Epoch 41, Loss: 66.55706268548965\n",
      "Epoch 42, Loss: 66.44662955403328\n",
      "Epoch 43, Loss: 66.16884577274323\n",
      "Epoch 44, Loss: 65.9813050031662\n",
      "Epoch 45, Loss: 66.01402339339256\n",
      "Epoch 46, Loss: 65.75725591182709\n",
      "Epoch 47, Loss: 65.4821292757988\n",
      "Epoch 48, Loss: 65.29915595054626\n",
      "Epoch 49, Loss: 65.1788626909256\n",
      "Epoch 50, Loss: 64.92742446064949\n",
      "Epoch 51, Loss: 64.72022631764412\n",
      "Epoch 52, Loss: 64.69128528237343\n",
      "Epoch 53, Loss: 64.5273731648922\n",
      "Epoch 54, Loss: 64.28573405742645\n",
      "Epoch 55, Loss: 64.19373658299446\n",
      "Epoch 56, Loss: 63.91562595963478\n",
      "Epoch 57, Loss: 63.746694058179855\n",
      "Epoch 58, Loss: 63.70205473899841\n",
      "Epoch 59, Loss: 63.49602857232094\n",
      "Epoch 60, Loss: 63.52199777960777\n",
      "Epoch 61, Loss: 63.30085697770119\n",
      "Epoch 62, Loss: 63.26309669017792\n",
      "Epoch 63, Loss: 63.03202158212662\n",
      "Epoch 64, Loss: 62.79387220740318\n",
      "Epoch 65, Loss: 62.72442972660065\n",
      "Epoch 66, Loss: 62.583599507808685\n",
      "Epoch 67, Loss: 62.37376445531845\n",
      "Epoch 68, Loss: 62.372476160526276\n",
      "Epoch 69, Loss: 62.11003091931343\n",
      "Epoch 70, Loss: 62.06693735718727\n",
      "Epoch 71, Loss: 61.87072876095772\n",
      "Epoch 72, Loss: 61.91826260089874\n",
      "Epoch 73, Loss: 61.54803901910782\n",
      "Epoch 74, Loss: 61.52156916260719\n",
      "Epoch 75, Loss: 61.41888749599457\n",
      "Epoch 76, Loss: 61.30422079563141\n",
      "Epoch 77, Loss: 61.01028522849083\n",
      "Epoch 78, Loss: 61.028872698545456\n",
      "Epoch 79, Loss: 60.93212229013443\n"
     ]
    }
   ],
   "source": [
    "\n",
    "#%% Model, Loss and Optimizer, and training\n",
    "model = SentimentModel(NUM_FEATURES = X_train.shape[1], NUM_CLASSES = 3)\n",
    "\n",
    "criterion = nn.CrossEntropyLoss()\n",
    "optimizer = torch.optim.AdamW(model.parameters())\n",
    "\n",
    "# %% Model Training\n",
    "train_losses = []\n",
    "for e in range(NUM_EPOCHS):\n",
    "    curr_loss = 0\n",
    "    for X_batch, y_batch in train_loader:\n",
    "        optimizer.zero_grad()\n",
    "        y_pred_log = model(X_batch)\n",
    "        loss = criterion(y_pred_log, y_batch.long())\n",
    "        \n",
    "        curr_loss += loss.item()\n",
    "        loss.backward()\n",
    "        optimizer.step()\n",
    "    train_losses.append(curr_loss)\n",
    "    print(f\"Epoch {e}, Loss: {curr_loss}\")"
   ]
  },
  {
   "cell_type": "code",
   "execution_count": 153,
   "metadata": {},
   "outputs": [],
   "source": [
    "import matplotlib.pyplot as plt"
   ]
  },
  {
   "cell_type": "code",
   "execution_count": 155,
   "metadata": {},
   "outputs": [
    {
     "data": {
      "text/plain": [
       "Text(0, 0.5, 'Losses')"
      ]
     },
     "execution_count": 155,
     "metadata": {},
     "output_type": "execute_result"
    },
    {
     "data": {
      "image/png": "[encoded data removed]",
      "text/plain": [
       "<Figure size 640x480 with 1 Axes>"
      ]
     },
     "metadata": {},
     "output_type": "display_data"
    }
   ],
   "source": [
    "sns.lineplot(x=list(range(len(train_losses))),y=train_losses)\n",
    "plt.xlabel(\"Epochs\")\n",
    "plt.ylabel(\"Losses\")"
   ]
  },
  {
   "cell_type": "code",
   "execution_count": 144,
   "metadata": {},
   "outputs": [],
   "source": [
    "import matplotlib.pyplot as plt\n",
    "\n",
    "%matplotlib inline\n"
   ]
  },
  {
   "cell_type": "code",
   "execution_count": 145,
   "metadata": {},
   "outputs": [],
   "source": [
    "# %% Model Evaluation\n",
    "all_preds = []\n",
    "all_labels = []\n",
    "\n",
    "with torch.no_grad():\n",
    "    for X_batch, y_batch in test_loader:\n",
    "        y_pred_log = model(X_batch)\n",
    "        y_pred = torch.argmax(y_pred_log, dim=1)\n",
    "        all_preds.extend(y_pred.cpu().numpy())\n",
    "        all_labels.extend(y_batch.cpu().numpy())\n"
   ]
  },
  {
   "cell_type": "code",
   "execution_count": 146,
   "metadata": {},
   "outputs": [],
   "source": [
    "from sklearn.metrics import accuracy_score, precision_score, recall_score, f1_score, confusion_matrix\n"
   ]
  },
  {
   "cell_type": "code",
   "execution_count": 159,
   "metadata": {},
   "outputs": [
    {
     "name": "stdout",
     "output_type": "stream",
     "text": [
      "Accuracy: 0.6733134415253621\n",
      "Precision: 0.6739206045716377\n",
      "Recall: 0.6733134415253621\n",
      "F1 Score: 0.673572084298894\n",
      "Confusion Matrix:\n",
      "[[2579 1114  187]\n",
      " [1000 3566  966]\n",
      " [ 260  962 3107]]\n"
     ]
    }
   ],
   "source": [
    "# Set model to evaluation mode\n",
    "model.eval()\n",
    "\n",
    "# Initialize lists to store predictions and labels\n",
    "all_preds = []\n",
    "all_labels = []\n",
    "\n",
    "# Inference\n",
    "with torch.no_grad():\n",
    "    for X_batch, y_batch in test_loader:\n",
    "        y_pred_log = model(X_batch)\n",
    "        y_pred = torch.argmax(y_pred_log, dim=1)\n",
    "        all_preds.extend(y_pred.cpu().numpy())\n",
    "        all_labels.extend(y_batch.cpu().numpy())\n",
    "\n",
    "# Calculate metrics\n",
    "from sklearn.metrics import accuracy_score, precision_score, recall_score, f1_score, confusion_matrix\n",
    "\n",
    "accuracy = accuracy_score(all_labels, all_preds)\n",
    "precision = precision_score(all_labels, all_preds, average='weighted')\n",
    "recall = recall_score(all_labels, all_preds, average='weighted')\n",
    "f1 = f1_score(all_labels, all_preds, average='weighted')\n",
    "cm = confusion_matrix(all_labels, all_preds)\n",
    "\n",
    "# Print the metrics\n",
    "print(f\"Accuracy: {accuracy}\")\n",
    "print(f\"Precision: {precision}\")\n",
    "print(f\"Recall: {recall}\")\n",
    "print(f\"F1 Score: {f1}\")\n",
    "print(\"Confusion Matrix:\")\n",
    "print(cm)\n"
   ]
  },
  {
   "cell_type": "code",
   "execution_count": 148,
   "metadata": {},
   "outputs": [
    {
     "data": {
      "image/png": "[encoded data removed]",
      "text/plain": [
       "<Figure size 640x480 with 1 Axes>"
      ]
     },
     "metadata": {},
     "output_type": "display_data"
    }
   ],
   "source": [
    "# Plot the confusion matrix\n",
    "sns.heatmap(cm, annot=True, fmt='d', cmap='Blues', cbar=False)\n",
    "plt.xlabel('Predicted Labels')\n",
    "plt.ylabel('True Labels')\n",
    "plt.title('Confusion Matrix')\n",
    "plt.show()"
   ]
  }
 ],
 "metadata": {
  "kernelspec": {
   "display_name": "Python 3",
   "language": "python",
   "name": "python3"
  },
  "language_info": {
   "codemirror_mode": {
    "name": "ipython",
    "version": 3
   },
   "file_extension": ".py",
   "mimetype": "text/x-python",
   "name": "python",
   "nbconvert_exporter": "python",
   "pygments_lexer": "ipython3",
   "version": "3.10.12"
  }
 },
 "nbformat": 4,
 "nbformat_minor": 2
}
